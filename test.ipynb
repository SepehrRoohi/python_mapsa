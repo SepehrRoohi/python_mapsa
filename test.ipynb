{
 "cells": [
  {
   "cell_type": "code",
   "execution_count": 2,
   "metadata": {},
   "outputs": [
    {
     "ename": "ModuleNotFoundError",
     "evalue": "No module named 'matplotlib'",
     "output_type": "error",
     "traceback": [
      "\u001b[1;31m---------------------------------------------------------------------------\u001b[0m",
      "\u001b[1;31mModuleNotFoundError\u001b[0m                       Traceback (most recent call last)",
      "Cell \u001b[1;32mIn[2], line 37\u001b[0m\n\u001b[0;32m      1\u001b[0m \u001b[39m# # help(int)\u001b[39;00m\n\u001b[0;32m      2\u001b[0m \u001b[39m# # help(float)\u001b[39;00m\n\u001b[0;32m      3\u001b[0m \u001b[39m# # help(bool)\u001b[39;00m\n\u001b[1;32m   (...)\u001b[0m\n\u001b[0;32m     34\u001b[0m \u001b[39m# a.difference(b)\u001b[39;00m\n\u001b[0;32m     35\u001b[0m \u001b[39m# print(a)\u001b[39;00m\n\u001b[1;32m---> 37\u001b[0m \u001b[39mfrom\u001b[39;00m \u001b[39mmatplotlib\u001b[39;00m \u001b[39mimport\u001b[39;00m pyplot \u001b[39mas\u001b[39;00m plt\n\u001b[0;32m     39\u001b[0m fig \u001b[39m=\u001b[39m plt\u001b[39m.\u001b[39mfigure()\n\u001b[0;32m     40\u001b[0m plt\u001b[39m.\u001b[39mplot(data)\n",
      "\u001b[1;31mModuleNotFoundError\u001b[0m: No module named 'matplotlib'"
     ]
    }
   ],
   "source": [
    "# # help(int)\n",
    "# # help(float)\n",
    "# # help(bool)\n",
    "\n",
    "# # a = 10\n",
    "# # b = 12\n",
    "\n",
    "# # if a > b:\n",
    "# #     m = a \n",
    "# # else:\n",
    "# #     m = b\n",
    "# # #####################\n",
    "# # m = a if a > b  else m = b\n",
    "\n",
    "# # x = 44\n",
    "# # y = 99\n",
    "# # x , y = y , x\n",
    "# # print(x)\n",
    "# # print(y)\n",
    "\n",
    "# fruits = ['apple','babnana','cherry','pineapple']\n",
    "# for fruit in fruits:\n",
    "#     print(fruit)\n",
    "#     break\n",
    "# else:\n",
    "#     print('Noooo')\n",
    "\n",
    "# a = {'sepehr','ali','masood','hosein'}\n",
    "# b = {'roohi','akbari','khani','farda'}\n",
    "# # c = zip(a,b)\n",
    "# # for a in c:\n",
    "# #     print(a)\n",
    "\n",
    "# a.difference(b)\n",
    "# print(a)\n",
    "\n",
    "from matplotlib import pyplot as plt\n",
    "\n",
    "fig = plt.figure()\n",
    "plt.plot(data)\n",
    "fig.suptitle('test title')\n",
    "plt.xlabel('xlabel')\n",
    "plt.ylabel('ylabel')\n",
    "fig.savefig('test.jpg')\n",
    "\n"
   ]
  },
  {
   "cell_type": "code",
   "execution_count": null,
   "metadata": {},
   "outputs": [],
   "source": []
  }
 ],
 "metadata": {
  "kernelspec": {
   "display_name": "Python 3",
   "language": "python",
   "name": "python3"
  },
  "language_info": {
   "codemirror_mode": {
    "name": "ipython",
    "version": 3
   },
   "file_extension": ".py",
   "mimetype": "text/x-python",
   "name": "python",
   "nbconvert_exporter": "python",
   "pygments_lexer": "ipython3",
   "version": "3.11.1 (tags/v3.11.1:a7a450f, Dec  6 2022, 19:58:39) [MSC v.1934 64 bit (AMD64)]"
  },
  "orig_nbformat": 4,
  "vscode": {
   "interpreter": {
    "hash": "8a709c18e44c2db589206e42896e439af9a6d9cfab58d7c382caa1d6c095740d"
   }
  }
 },
 "nbformat": 4,
 "nbformat_minor": 2
}
